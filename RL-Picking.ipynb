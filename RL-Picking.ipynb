{
 "cells": [
  {
   "cell_type": "code",
   "execution_count": 1,
   "metadata": {},
   "outputs": [
    {
     "name": "stderr",
     "output_type": "stream",
     "text": [
      "Using TensorFlow backend.\n"
     ]
    }
   ],
   "source": [
    "from __future__ import print_function\n",
    "import os, sys, time, datetime, json, random\n",
    "import numpy as np\n",
    "from keras.models import Sequential\n",
    "from keras.layers.core import Dense, Activation\n",
    "from keras.optimizers import SGD , Adam, RMSprop\n",
    "from keras.layers.advanced_activations import PReLU\n",
    "from keras.layers.advanced_activations import LeakyReLU\n",
    "from keras.activations import relu\n",
    "import matplotlib.pyplot as plt\n",
    "import imageio\n",
    "%matplotlib inline"
   ]
  },
  {
   "cell_type": "code",
   "execution_count": 2,
   "metadata": {},
   "outputs": [],
   "source": [
    "# Gray scale marks for cells\n",
    "visited_mark = 0.9\n",
    "flag_mark = 0.65\n",
    "agent_mark = 0.5\n",
    "\n",
    "# Actions dictionary\n",
    "actions_dict = {\n",
    "    0: 'left',\n",
    "    1: 'up',\n",
    "    2: 'right',\n",
    "    3: 'down',\n",
    "}\n",
    "\n",
    "num_actions = len(actions_dict)"
   ]
  },
  {
   "cell_type": "code",
   "execution_count": 3,
   "metadata": {},
   "outputs": [],
   "source": [
    "# maze is a 2d Numpy array of floats between 0.0 to 1.0\n",
    "# 1.0 corresponds to a free cell, and 0.0 an occupied cell\n",
    "# rat = (row, col) initial rat position (defaults to (0,0))\n",
    "\n",
    "class Tmaze(object):\n",
    "    \"\"\"\n",
    "    Tour De Flags maze object\n",
    "    maze: a 2d Numpy array of 0's and 1's\n",
    "        1.00 - a free cell\n",
    "        0.65 - flag cell\n",
    "        0.50 - agent cell\n",
    "        0.00 - an occupied cell\n",
    "    agent: (row, col) initial agent position (defaults to (0,0))\n",
    "    flags: list of cells occupied by flags\n",
    "    \"\"\"\n",
    "    def __init__(self, maze, flags, agent=(0,0), target=None):\n",
    "        self._maze = np.array(maze)\n",
    "        self._flags = set(flags)\n",
    "        nrows, ncols = self._maze.shape\n",
    "        if target is None:\n",
    "            self.target = (nrows-1, ncols-1)   # default target cell where the agent to deliver the \"flags\"\n",
    "        self.free_cells = set((r,c) for r in range(nrows) for c in range(ncols) if self._maze[r,c] == 1.0)\n",
    "        self.free_cells.discard(self.target)\n",
    "        self.free_cells -= self._flags\n",
    "        if self._maze[self.target] == 0.0:\n",
    "            raise Exception(\"Invalid maze: target cell cannot be blocked!\")\n",
    "        if not agent in self.free_cells:\n",
    "            raise Exception(\"Invalid agent Location: must sit on a free cell\")\n",
    "        self.reset(agent)\n",
    "\n",
    "    def reset(self, agent=(0,0)):\n",
    "        self.agent = agent\n",
    "        self.maze = np.copy(self._maze)\n",
    "        self.flags = set(self._flags)\n",
    "        nrows, ncols = self.maze.shape\n",
    "        row, col = agent\n",
    "        self.maze[row, col] = agent_mark\n",
    "        self.state = ((row, col), 'start')\n",
    "        self.base = np.sqrt(self.maze.size)\n",
    "        self.visited = dict(((r,c),0) for r in range(nrows) for c in range(ncols) if self._maze[r,c] == 1.0)\n",
    "        self.total_reward = 0\n",
    "        self.min_reward = -0.5 * self.maze.size\n",
    "        self.reward = {\n",
    "            'blocked':  self.min_reward,\n",
    "            'flag':     1.0/len(self._flags),\n",
    "            'invalid': -4.0/self.base,\n",
    "            'valid':   -1.0/self.maze.size\n",
    "        }\n",
    "\n",
    "    def act(self, action):\n",
    "        self.update_state(action)\n",
    "        reward = self.get_reward()\n",
    "        self.total_reward += reward\n",
    "        status = self.game_status()\n",
    "        env_state = self.observe()\n",
    "        return env_state, reward, status\n",
    "\n",
    "    def get_reward(self):\n",
    "        agent, mode = self.state\n",
    "        if agent == self.target:\n",
    "            return 1.0 - len(self.flags) / len(self._flags)\n",
    "        if mode == 'blocked':\n",
    "            return self.reward['blocked']\n",
    "        elif agent in self.flags:\n",
    "            return self.reward['flag']\n",
    "        elif mode == 'invalid':\n",
    "            return self.reward['invalid']\n",
    "        elif mode == 'valid':\n",
    "            return self.reward['valid'] #* (1 + 0.1*self.visited[agent] ** 2)\n",
    "\n",
    "    def update_state(self, action):\n",
    "        nrows, ncols = self.maze.shape\n",
    "        (nrow, ncol), nmode = agent, mode = self.state\n",
    "\n",
    "        if self.maze[agent] > 0.0:\n",
    "            self.visited[agent] += 1  # mark visited cell\n",
    "        if agent in self.flags:\n",
    "            self.flags.remove(agent)\n",
    "\n",
    "        valid_actions = self.valid_actions()\n",
    "\n",
    "        if not valid_actions:\n",
    "            nmode = 'blocked'\n",
    "        elif action in valid_actions:\n",
    "            nmode = 'valid'\n",
    "            if action == 0:    # move left\n",
    "                ncol -= 1\n",
    "            elif action == 1:  # move up\n",
    "                nrow -= 1\n",
    "            elif action == 2:    # move right\n",
    "                ncol += 1\n",
    "            elif action == 3:  # move down\n",
    "                nrow += 1\n",
    "        else:                  # invalid action, no change in agent position\n",
    "            nmode = 'invalid'\n",
    "\n",
    "        # new state\n",
    "        agent = (nrow, ncol)\n",
    "        self.state = (agent, nmode)\n",
    "\n",
    "    def game_status(self):\n",
    "        if self.total_reward < self.min_reward:\n",
    "            return 'lose'\n",
    "        agent, mode = self.state\n",
    "        if agent == self.target:\n",
    "            if len(self.flags) == 0:\n",
    "                return 'win'\n",
    "            else:\n",
    "                return 'lose'\n",
    "\n",
    "        return 'ongoing'\n",
    "\n",
    "    def observe(self):\n",
    "        canvas = self.draw_env()\n",
    "        env_state = canvas.reshape((1, -1))\n",
    "        return env_state\n",
    "\n",
    "    def draw_env(self):\n",
    "        canvas = np.copy(self.maze)\n",
    "        nrows, ncols = self.maze.shape\n",
    "        # clear all visual marks\n",
    "        for r in range(nrows):\n",
    "            for c in range(ncols):\n",
    "                if canvas[r,c] > 0.0:\n",
    "                    canvas[r,c] = 1.0\n",
    "        # draw the flags\n",
    "        for r,c in self.flags:\n",
    "            canvas[r,c] = flag_mark\n",
    "        # draw the agent\n",
    "        agent, mode = self.state\n",
    "        canvas[agent] = agent_mark\n",
    "        return canvas\n",
    "\n",
    "    def valid_actions(self, cell=None):\n",
    "        if cell is None:\n",
    "            (row, col), mode = self.state\n",
    "        else:\n",
    "            row, col = cell\n",
    "        actions = [0, 1, 2, 3]\n",
    "        nrows, ncols = self.maze.shape\n",
    "        if row == 0:\n",
    "            actions.remove(1)\n",
    "        elif row == nrows-1:\n",
    "            actions.remove(3)\n",
    "\n",
    "        if col == 0:\n",
    "            actions.remove(0)\n",
    "        elif col == ncols-1:\n",
    "            actions.remove(2)\n",
    "\n",
    "        if row>0 and self.maze[row-1,col] == 0.0:\n",
    "            actions.remove(1)\n",
    "        if row<nrows-1 and self.maze[row+1,col] == 0.0:\n",
    "            actions.remove(3)\n",
    "\n",
    "        if col>0 and self.maze[row,col-1] == 0.0:\n",
    "            actions.remove(0)\n",
    "        if col<ncols-1 and self.maze[row,col+1] == 0.0:\n",
    "            actions.remove(2)\n",
    "\n",
    "        return actions"
   ]
  },
  {
   "cell_type": "code",
   "execution_count": 4,
   "metadata": {},
   "outputs": [],
   "source": [
    "class Experience(object):\n",
    "    def __init__(self, model, max_memory=100, discount=0.97):\n",
    "        self.model = model\n",
    "        self.max_memory = max_memory\n",
    "        self.discount = discount\n",
    "        self.memory = list()\n",
    "        self.num_actions = model.output_shape[-1]\n",
    "\n",
    "    def remember(self, episode):\n",
    "        # episode = [env_state, action, reward, next_env_state, game_over]\n",
    "        # memory[i] = episode\n",
    "        # env_state == flattened 1d maze cells info, including agent cell (see method: observe)\n",
    "        self.memory.append(episode)\n",
    "        if len(self.memory) > self.max_memory:\n",
    "            del self.memory[0]\n",
    "\n",
    "    def predict(self, env_state):\n",
    "        return self.model.predict(env_state)[0]\n",
    "\n",
    "    def get_data(self, data_size=10):\n",
    "        env_size = self.memory[0][0].shape[1]   # env_state 1d size (1st element of episode)\n",
    "        mem_size = len(self.memory)\n",
    "        data_size = min(mem_size, data_size)\n",
    "        inputs = np.zeros((data_size, env_size))\n",
    "        targets = np.zeros((data_size, self.num_actions))\n",
    "        for i, j in enumerate(np.random.choice(range(mem_size), data_size, replace=False)):\n",
    "            env_state, action, reward, next_env_state, game_over = self.memory[j]\n",
    "            inputs[i] = env_state\n",
    "            # There should be no target values for actions not taken.\n",
    "            # Thou shalt not correct actions not taken #deep (quote by Eder Santana)\n",
    "            targets[i] = self.predict(env_state)\n",
    "            # Q_sa = derived policy = max quality env/action = max_a' Q(s', a')\n",
    "            Q_sa = np.max(self.predict(next_env_state))\n",
    "            if game_over:\n",
    "                targets[i, action] = reward\n",
    "            else:\n",
    "                # reward + gamma * max_a' Q(s', a')\n",
    "                targets[i, action] = reward + self.discount * Q_sa\n",
    "        return inputs, targets"
   ]
  },
  {
   "cell_type": "code",
   "execution_count": 10,
   "metadata": {},
   "outputs": [],
   "source": [
    "class Qtraining(object):\n",
    "    def __init__(self, model, env, **opt):\n",
    "        self.model = model  # Nueral Network Model\n",
    "        self.env = env  # Environment (Tour De Flags maze object)\n",
    "        self.n_epoch = opt.get('n_epoch', 1000)  # Number of epochs to run\n",
    "        self.max_memory = opt.get('max_memory', 4*self.env.maze.size)  # Max memory for experiences\n",
    "        self.data_size = opt.get('data_size', int(0.75*self.env.maze.size))  # Data samples from experience replay\n",
    "        self.agent_cells = opt.get('agent_cells', [(0,0)])  # Starting cells for the agent\n",
    "        self.weights_file = opt.get('weights_file', \"\")  # Keras model weights file\n",
    "        self.name = opt.get('name', 'model')  # Name for saving weights and json files\n",
    "        self.imageArray = []\n",
    "\n",
    "        self.win_count = 0\n",
    "        # If you want to continue training from a previous model,\n",
    "        # just supply the h5 file name to weights_file option\n",
    "        if self.weights_file:\n",
    "            print(\"loading weights from file: %s\" % (self.weights_file,))\n",
    "            self.model.load_weights(self.weights_file)\n",
    "\n",
    "        if self.agent_cells == 'all':\n",
    "            self.agent_cells = self.env.free_cells\n",
    "\n",
    "        # Initialize experience replay object\n",
    "        self.experience = Experience(self.model, max_memory=self.max_memory)\n",
    "\n",
    "    def train(self):\n",
    "        start_time = datetime.datetime.now()\n",
    "        self.seconds = 0\n",
    "        self.win_count = 0\n",
    "        for epoch in range(self.n_epoch):\n",
    "            self.epoch = epoch\n",
    "            self.loss = 0.0\n",
    "            self.image_array = []\n",
    "            agent = random.choice(self.agent_cells)\n",
    "            self.env.reset(agent)\n",
    "            game_over = False\n",
    "            # get initial env_state (1d flattened canvas)\n",
    "            self.env_state = self.env.observe()\n",
    "            self.n_episodes = 0\n",
    "            while not game_over:\n",
    "                game_over = self.play()\n",
    "                if epoch == 1:\n",
    "                    show_env(self.env)\n",
    "                \n",
    "            dt = datetime.datetime.now() - start_time\n",
    "            self.seconds = dt.total_seconds()\n",
    "            t = format_time(self.seconds)\n",
    "            fmt = \"Epoch: {:3d}/{:d} | Loss: {:.4f} | Episodes: {:4d} | Wins: {:2d} | flags: {:d} | e: {:.3f} | time: {}\"\n",
    "            print(fmt.format(epoch, self.n_epoch-1, self.loss, self.n_episodes, self.win_count, len(self.env.flags), self.epsilon(), t))\n",
    "            if self.win_count > 2:\n",
    "                if self.completion_check():\n",
    "                    print(\"Completed training at epoch: %d\" % (epoch,))\n",
    "                    break\n",
    "\n",
    "    def play(self):\n",
    "        action = self.action()\n",
    "        prev_env_state = self.env_state\n",
    "        self.env_state, reward, game_status = self.env.act(action)\n",
    "        if game_status == 'win':\n",
    "            self.win_count += 1\n",
    "            game_over = True\n",
    "        elif game_status == 'lose':\n",
    "            game_over = True\n",
    "        else:\n",
    "            game_over = False\n",
    "\n",
    "        # Store episode (experience)\n",
    "        episode = [prev_env_state, action, reward, self.env_state, game_over]\n",
    "        self.experience.remember(episode)\n",
    "        self.n_episodes += 1\n",
    "\n",
    "        # Train model\n",
    "        inputs, targets = self.experience.get_data(data_size=self.data_size)\n",
    "        epochs = int(self.env.base)\n",
    "        h = self.model.fit(\n",
    "            inputs,\n",
    "            targets,\n",
    "            epochs = epochs,\n",
    "            batch_size=16,\n",
    "            verbose=0,\n",
    "        )\n",
    "        self.loss = self.model.evaluate(inputs, targets, verbose=0)\n",
    "        return game_over\n",
    "\n",
    "    def run_game(self, agent):\n",
    "        self.env.reset(agent)\n",
    "        env_state = self.env.observe()\n",
    "        while True:\n",
    "            # get next action\n",
    "            q = self.model.predict(env_state)\n",
    "            action = np.argmax(q[0])\n",
    "            prev_env_state = env_state\n",
    "            # apply action, get rewards and new state\n",
    "            env_state, reward, game_status = self.env.act(action)\n",
    "            if game_status == 'win':\n",
    "                return True\n",
    "            elif game_status == 'lose':\n",
    "                return False\n",
    "\n",
    "    def action(self):\n",
    "        # Get next action\n",
    "        valid_actions = self.env.valid_actions()\n",
    "        if not valid_actions:\n",
    "            action = None\n",
    "        elif np.random.rand() < self.epsilon():\n",
    "            action = random.choice(valid_actions)\n",
    "        else:\n",
    "            q = self.experience.predict(self.env_state)\n",
    "            action = np.argmax(q)\n",
    "        return action\n",
    "\n",
    "    def epsilon(self):\n",
    "        n = self.win_count\n",
    "        top = 0.80\n",
    "        bottom = 0.08\n",
    "        if n<10:\n",
    "            e = bottom + (top - bottom) / (1 + 0.1 * n**0.5)\n",
    "        else:\n",
    "            e = bottom\n",
    "        return e\n",
    "    \n",
    "    def completion_check(self):\n",
    "        for agent in self.agent_cells:\n",
    "            if not self.run_game(agent):\n",
    "                return False\n",
    "        return True\n",
    "\n",
    "    def save(self, name=\"\"):\n",
    "        # Save trained model weights and architecture, this will be used by the visualization code\n",
    "        if not name:\n",
    "            name = self.name\n",
    "        h5file = 'model_%s.h5' % (name,)\n",
    "        json_file = 'model_%s.json' % (name,)\n",
    "        self.model.save_weights(h5file, overwrite=True)\n",
    "        with open(json_file, \"w\") as outfile:\n",
    "            json.dump(self.model.to_json(), outfile)\n",
    "        t = format_time(self.seconds)\n",
    "        print('files: %s, %s' % (h5file, json_file))\n",
    "        print(\"n_epoch: %d, max_mem: %d, data: %d, time: %s\" % (self.epoch, self.max_memory, self.data_size, t))"
   ]
  },
  {
   "cell_type": "code",
   "execution_count": 11,
   "metadata": {},
   "outputs": [],
   "source": [
    "def build_model(env, **opt):\n",
    "    loss = opt.get('loss', 'mse')\n",
    "    a = opt.get('alpha', 0.24)\n",
    "    model = Sequential()\n",
    "    esize = env.maze.size\n",
    "    model.add(Dense(esize, input_shape=(esize,)))\n",
    "    model.add(LeakyReLU(alpha=a))\n",
    "    model.add(Dense(esize))\n",
    "    model.add(LeakyReLU(alpha=a))\n",
    "    model.add(Dense(num_actions))\n",
    "    model.compile(optimizer='adam', loss='mse')\n",
    "    return model"
   ]
  },
  {
   "cell_type": "code",
   "execution_count": 12,
   "metadata": {},
   "outputs": [],
   "source": [
    "def show_env(env, fname=None):\n",
    "    n = env.maze.shape[0]\n",
    "    fig, ax = plt.subplots()\n",
    "    currax = plt.gca()\n",
    "    ax.set_xticks(np.arange(0.5, n, 1))\n",
    "    ax.set_yticks(np.arange(0.5, n, 1))\n",
    "    ax.set_xticklabels([])\n",
    "    ax.set_yticklabels([])\n",
    "    ax.grid()\n",
    "    canvas = np.copy(env.maze)\n",
    "    for cell in env.visited:\n",
    "        if env.visited[cell]:\n",
    "            canvas[cell] = visited_mark\n",
    "    for cell in env.flags:\n",
    "        canvas[cell] = flag_mark\n",
    "    img = plt.imshow(canvas, interpolation='none', cmap='gray')\n",
    "    fig.canvas.draw()       # draw the canvas, cache the renderer\n",
    "    image = np.frombuffer(fig.canvas.tostring_rgb(), dtype='uint8')\n",
    "    if fname:\n",
    "        plt.savefig(fname)\n",
    "    return img\n",
    "\n",
    "def format_time(seconds):\n",
    "    if seconds < 400:\n",
    "        s = float(seconds)\n",
    "        return \"%.1f seconds\" % (s,)\n",
    "    elif seconds < 4000:\n",
    "        m = seconds / 60.0\n",
    "        return \"%.2f minutes\" % (m,)\n",
    "    else:\n",
    "        h = seconds / 3600.0\n",
    "        return \"%.2f hours\" % (h,)"
   ]
  },
  {
   "cell_type": "code",
   "execution_count": 13,
   "metadata": {},
   "outputs": [
    {
     "data": {
      "text/plain": [
       "<matplotlib.image.AxesImage at 0x7fc830348400>"
      ]
     },
     "execution_count": 13,
     "metadata": {},
     "output_type": "execute_result"
    },
    {
     "data": {
      "image/png": "[encoded data removed]",
      "text/plain": [
       "<matplotlib.figure.Figure at 0x7fc8303826d8>"
      ]
     },
     "metadata": {
      "needs_background": "light"
     },
     "output_type": "display_data"
    }
   ],
   "source": [
    "maze = np.array([\n",
    "    [ 1.,  1.,  1.,  1.,  1.,  1.,  1.],\n",
    "    [ 1.,  0.,  0.,  1.,  0.,  0.,  1.],\n",
    "    [ 1.,  0.,  0.,  1.,  0.,  0.,  1.],\n",
    "    [ 1.,  0.,  0.,  1.,  0.,  0.,  1.],\n",
    "    [ 1.,  1.,  1.,  1.,  1.,  1.,  1.],\n",
    "])\n",
    "\n",
    "flags = [(3,3), (1,6)]\n",
    "\n",
    "env = Tmaze(maze, flags)\n",
    "show_env(env)"
   ]
  },
  {
   "cell_type": "code",
   "execution_count": 14,
   "metadata": {},
   "outputs": [
    {
     "name": "stdout",
     "output_type": "stream",
     "text": [
      "Epoch:   0/199 | Loss: 0.0208 | Episodes:   26 | Wins:  0 | flags: 2 | e: 0.800 | time: 1.3 seconds\n"
     ]
    },
    {
     "name": "stderr",
     "output_type": "stream",
     "text": [
      "/home/ameya/.local/lib/python3.6/site-packages/matplotlib/pyplot.py:528: RuntimeWarning: More than 20 figures have been opened. Figures created through the pyplot interface (`matplotlib.pyplot.figure`) are retained until explicitly closed and may consume too much memory. (To control this warning, see the rcParam `figure.max_open_warning`).\n",
      "  max_open_warning, RuntimeWarning)\n"
     ]
    },
    {
     "name": "stdout",
     "output_type": "stream",
     "text": [
      "Epoch:   1/199 | Loss: 0.0068 | Episodes:   60 | Wins:  0 | flags: 1 | e: 0.800 | time: 11.3 seconds\n",
      "Epoch:   2/199 | Loss: 0.0043 | Episodes:   51 | Wins:  0 | flags: 1 | e: 0.800 | time: 21.9 seconds\n",
      "Epoch:   3/199 | Loss: 0.0005 | Episodes:  260 | Wins:  1 | flags: 0 | e: 0.735 | time: 77.3 seconds\n",
      "Epoch:   4/199 | Loss: 0.0004 | Episodes:   50 | Wins:  1 | flags: 1 | e: 0.735 | time: 88.7 seconds\n",
      "Epoch:   5/199 | Loss: 0.0019 | Episodes:   35 | Wins:  1 | flags: 1 | e: 0.735 | time: 95.9 seconds\n",
      "Epoch:   6/199 | Loss: 0.0007 | Episodes:  118 | Wins:  2 | flags: 0 | e: 0.711 | time: 120.1 seconds\n",
      "Epoch:   7/199 | Loss: 0.0007 | Episodes:   13 | Wins:  2 | flags: 1 | e: 0.711 | time: 122.7 seconds\n",
      "Epoch:   8/199 | Loss: 0.0007 | Episodes:   30 | Wins:  2 | flags: 2 | e: 0.711 | time: 128.9 seconds\n",
      "Epoch:   9/199 | Loss: 0.0020 | Episodes:   46 | Wins:  3 | flags: 0 | e: 0.694 | time: 138.1 seconds\n",
      "Epoch:  10/199 | Loss: 0.0011 | Episodes:   24 | Wins:  3 | flags: 1 | e: 0.694 | time: 143.5 seconds\n",
      "Completed training at epoch: 10\n"
     ]
    },
    {
     "data": {
      "image/png": "[encoded data removed]",
      "text/plain": [
       "<matplotlib.figure.Figure at 0x7fc830060c88>"
      ]
     },
     "metadata": {
      "needs_background": "light"
     },
     "output_type": "display_data"
    },
    {
     "data": {
      "image/png": "[encoded data removed]",
      "text/plain": [
       "<matplotlib.figure.Figure at 0x7fc8300c1e48>"
      ]
     },
     "metadata": {
      "needs_background": "light"
     },
     "output_type": "display_data"
    },
    {
     "data": {
      "image/png": "[encoded data removed]",
      "text/plain": [
       "<matplotlib.figure.Figure at 0x7fc81f77c4e0>"
      ]
     },
     "metadata": {
      "needs_background": "light"
     },
     "output_type": "display_data"
    },
    {
     "data": {
      "image/png": "[encoded data removed]",
      "text/plain": [
       "<matplotlib.figure.Figure at 0x7fc81f6d15f8>"
      ]
     },
     "metadata": {
      "needs_background": "light"
     },
     "output_type": "display_data"
    },
    {
     "data": {
      "image/png": "[encoded data removed]",
      "text/plain": [
       "<matplotlib.figure.Figure at 0x7fc81f647198>"
      ]
     },
     "metadata": {
      "needs_background": "light"
     },
     "output_type": "display_data"
    },
    {
     "data": {
      "image/png": "[encoded data removed]",
      "text/plain": [
       "<matplotlib.figure.Figure at 0x7fc81f6471d0>"
      ]
     },
     "metadata": {
      "needs_background": "light"
     },
     "output_type": "display_data"
    },
    {
     "data": {
      "image/png": "[encoded data removed]",
      "text/plain": [
       "<matplotlib.figure.Figure at 0x7fc81f672400>"
      ]
     },
     "metadata": {
      "needs_background": "light"
     },
     "output_type": "display_data"
    },
    {
     "data": {
      "image/png": "[encoded data removed]",
      "text/plain": [
       "<matplotlib.figure.Figure at 0x7fc81f5e3710>"
      ]
     },
     "metadata": {
      "needs_background": "light"
     },
     "output_type": "display_data"
    },
    {
     "data": {
      "image/png": "[encoded data removed]",
      "text/plain": [
       "<matplotlib.figure.Figure at 0x7fc81f50a0f0>"
      ]
     },
     "metadata": {
      "needs_background": "light"
     },
     "output_type": "display_data"
    },
    {
     "data": {
      "image/png": "[encoded data removed]",
      "text/plain": [
       "<matplotlib.figure.Figure at 0x7fc81f50a320>"
      ]
     },
     "metadata": {
      "needs_background": "light"
     },
     "output_type": "display_data"
    },
    {
     "data": {
      "image/png": "[encoded data removed]",
      "text/plain": [
       "<matplotlib.figure.Figure at 0x7fc81f5e3400>"
      ]
     },
     "metadata": {
      "needs_background": "light"
     },
     "output_type": "display_data"
    },
    {
     "data": {
      "image/png": "[encoded data removed]",
      "text/plain": [
       "<matplotlib.figure.Figure at 0x7fc81f4ab198>"
      ]
     },
     "metadata": {
      "needs_background": "light"
     },
     "output_type": "display_data"
    },
    {
     "data": {
      "image/png": "[encoded data removed]",
      "text/plain": [
       "<matplotlib.figure.Figure at 0x7fc81f47ac50>"
      ]
     },
     "metadata": {
      "needs_background": "light"
     },
     "output_type": "display_data"
    },
    {
     "data": {
      "image/png": "[encoded data removed]",
      "text/plain": [
       "<matplotlib.figure.Figure at 0x7fc8307c7e10>"
      ]
     },
     "metadata": {
      "needs_background": "light"
     },
     "output_type": "display_data"
    },
    {
     "data": {
      "image/png": "[encoded data removed]",
      "text/plain": [
       "<matplotlib.figure.Figure at 0x7fc81f3db630>"
      ]
     },
     "metadata": {
      "needs_background": "light"
     },
     "output_type": "display_data"
    },
    {
     "data": {
      "image/png": "[encoded data removed]",
      "text/plain": [
       "<matplotlib.figure.Figure at 0x7fc81f3487f0>"
      ]
     },
     "metadata": {
      "needs_background": "light"
     },
     "output_type": "display_data"
    },
    {
     "data": {
      "image/png": "[encoded data removed]",
      "text/plain": [
       "<matplotlib.figure.Figure at 0x7fc81f2cb978>"
      ]
     },
     "metadata": {
      "needs_background": "light"
     },
     "output_type": "display_data"
    },
    {
     "data": {
      "image/png": "[encoded data removed]",
      "text/plain": [
       "<matplotlib.figure.Figure at 0x7fc81f334be0>"
      ]
     },
     "metadata": {
      "needs_background": "light"
     },
     "output_type": "display_data"
    },
    {
     "data": {
      "image/png": "[encoded data removed]",
      "text/plain": [
       "<matplotlib.figure.Figure at 0x7fc81f28e7f0>"
      ]
     },
     "metadata": {
      "needs_background": "light"
     },
     "output_type": "display_data"
    },
    {
     "data": {
      "image/png": "[encoded data removed]",
      "text/plain": [
       "<matplotlib.figure.Figure at 0x7fc81f28e8d0>"
      ]
     },
     "metadata": {
      "needs_background": "light"
     },
     "output_type": "display_data"
    },
    {
     "data": {
      "image/png": "[encoded data removed]",
      "text/plain": [
       "<matplotlib.figure.Figure at 0x7fc81f226208>"
      ]
     },
     "metadata": {
      "needs_background": "light"
     },
     "output_type": "display_data"
    },
    {
     "data": {
      "image/png": "[encoded data removed]",
      "text/plain": [
       "<matplotlib.figure.Figure at 0x7fc81f15a400>"
      ]
     },
     "metadata": {
      "needs_background": "light"
     },
     "output_type": "display_data"
    },
    {
     "data": {
      "image/png": "[encoded data removed]",
      "text/plain": [
       "<matplotlib.figure.Figure at 0x7fc81f14bd30>"
      ]
     },
     "metadata": {
      "needs_background": "light"
     },
     "output_type": "display_data"
    },
    {
     "data": {
      "image/png": "[encoded data removed]",
      "text/plain": [
       "<matplotlib.figure.Figure at 0x7fc81f126c18>"
      ]
     },
     "metadata": {
      "needs_background": "light"
     },
     "output_type": "display_data"
    },
    {
     "data": {
      "image/png": "[encoded data removed]",
      "text/plain": [
       "<matplotlib.figure.Figure at 0x7fc81f051390>"
      ]
     },
     "metadata": {
      "needs_background": "light"
     },
     "output_type": "display_data"
    },
    {
     "data": {
      "image/png": "[encoded data removed]",
      "text/plain": [
       "<matplotlib.figure.Figure at 0x7fc81f062b38>"
      ]
     },
     "metadata": {
      "needs_background": "light"
     },
     "output_type": "display_data"
    },
    {
     "data": {
      "image/png": "[encoded data removed]",
      "text/plain": [
       "<matplotlib.figure.Figure at 0x7fc81f013be0>"
      ]
     },
     "metadata": {
      "needs_background": "light"
     },
     "output_type": "display_data"
    },
    {
     "data": {
      "image/png": "[encoded data removed]",
      "text/plain": [
       "<matplotlib.figure.Figure at 0x7fc81efb17b8>"
      ]
     },
     "metadata": {
      "needs_background": "light"
     },
     "output_type": "display_data"
    },
    {
     "data": {
      "image/png": "[encoded data removed]",
      "text/plain": [
       "<matplotlib.figure.Figure at 0x7fc81ef01e48>"
      ]
     },
     "metadata": {
      "needs_background": "light"
     },
     "output_type": "display_data"
    },
    {
     "data": {
      "image/png": "[encoded data removed]",
      "text/plain": [
       "<matplotlib.figure.Figure at 0x7fc81ef114e0>"
      ]
     },
     "metadata": {
      "needs_background": "light"
     },
     "output_type": "display_data"
    },
    {
     "data": {
      "image/png": "[encoded data removed]",
      "text/plain": [
       "<matplotlib.figure.Figure at 0x7fc81eea5ac8>"
      ]
     },
     "metadata": {
      "needs_background": "light"
     },
     "output_type": "display_data"
    },
    {
     "data": {
      "image/png": "[encoded data removed]",
      "text/plain": [
       "<matplotlib.figure.Figure at 0x7fc81ee57c50>"
      ]
     },
     "metadata": {
      "needs_background": "light"
     },
     "output_type": "display_data"
    },
    {
     "data": {
      "image/png": "[encoded data removed]",
      "text/plain": [
       "<matplotlib.figure.Figure at 0x7fc81edde4e0>"
      ]
     },
     "metadata": {
      "needs_background": "light"
     },
     "output_type": "display_data"
    },
    {
     "data": {
      "image/png": "[encoded data removed]",
      "text/plain": [
       "<matplotlib.figure.Figure at 0x7fc81edde4a8>"
      ]
     },
     "metadata": {
      "needs_background": "light"
     },
     "output_type": "display_data"
    },
    {
     "data": {
      "image/png": "[encoded data removed]",
      "text/plain": [
       "<matplotlib.figure.Figure at 0x7fc81edde668>"
      ]
     },
     "metadata": {
      "needs_background": "light"
     },
     "output_type": "display_data"
    },
    {
     "data": {
      "image/png": "[encoded data removed]",
      "text/plain": [
       "<matplotlib.figure.Figure at 0x7fc81ed0b860>"
      ]
     },
     "metadata": {
      "needs_background": "light"
     },
     "output_type": "display_data"
    },
    {
     "data": {
      "image/png": "[encoded data removed]",
      "text/plain": [
       "<matplotlib.figure.Figure at 0x7fc81ec42a90>"
      ]
     },
     "metadata": {
      "needs_background": "light"
     },
     "output_type": "display_data"
    },
    {
     "data": {
      "image/png": "[encoded data removed]",
      "text/plain": [
       "<matplotlib.figure.Figure at 0x7fc81eca6dd8>"
      ]
     },
     "metadata": {
      "needs_background": "light"
     },
     "output_type": "display_data"
    },
    {
     "data": {
      "image/png": "[encoded data removed]",
      "text/plain": [
       "<matplotlib.figure.Figure at 0x7fc81ec73be0>"
      ]
     },
     "metadata": {
      "needs_background": "light"
     },
     "output_type": "display_data"
    },
    {
     "data": {
      "image/png": "[encoded data removed]",
      "text/plain": [
       "<matplotlib.figure.Figure at 0x7fc81eb8dfd0>"
      ]
     },
     "metadata": {
      "needs_background": "light"
     },
     "output_type": "display_data"
    },
    {
     "data": {
      "image/png": "[encoded data removed]",
      "text/plain": [
       "<matplotlib.figure.Figure at 0x7fc81eb47208>"
      ]
     },
     "metadata": {
      "needs_background": "light"
     },
     "output_type": "display_data"
    },
    {
     "data": {
      "image/png": "[encoded data removed]",
      "text/plain": [
       "<matplotlib.figure.Figure at 0x7fc81eaefba8>"
      ]
     },
     "metadata": {
      "needs_background": "light"
     },
     "output_type": "display_data"
    },
    {
     "data": {
      "image/png": "[encoded data removed]",
      "text/plain": [
       "<matplotlib.figure.Figure at 0x7fc81eaef198>"
      ]
     },
     "metadata": {
      "needs_background": "light"
     },
     "output_type": "display_data"
    },
    {
     "data": {
      "image/png": "[encoded data removed]",
      "text/plain": [
       "<matplotlib.figure.Figure at 0x7fc81ea8c7f0>"
      ]
     },
     "metadata": {
      "needs_background": "light"
     },
     "output_type": "display_data"
    },
    {
     "data": {
      "image/png": "[encoded data removed]",
      "text/plain": [
       "<matplotlib.figure.Figure at 0x7fc81ea0a748>"
      ]
     },
     "metadata": {
      "needs_background": "light"
     },
     "output_type": "display_data"
    },
    {
     "data": {
      "image/png": "[encoded data removed]",
      "text/plain": [
       "<matplotlib.figure.Figure at 0x7fc81e97f9e8>"
      ]
     },
     "metadata": {
      "needs_background": "light"
     },
     "output_type": "display_data"
    },
    {
     "data": {
      "image/png": "[encoded data removed]",
      "text/plain": [
       "<matplotlib.figure.Figure at 0x7fc81e9769e8>"
      ]
     },
     "metadata": {
      "needs_background": "light"
     },
     "output_type": "display_data"
    },
    {
     "data": {
      "image/png": "[encoded data removed]",
      "text/plain": [
       "<matplotlib.figure.Figure at 0x7fc81e95dc88>"
      ]
     },
     "metadata": {
      "needs_background": "light"
     },
     "output_type": "display_data"
    },
    {
     "data": {
      "image/png": "[encoded data removed]",
      "text/plain": [
       "<matplotlib.figure.Figure at 0x7fc81e8d8d30>"
      ]
     },
     "metadata": {
      "needs_background": "light"
     },
     "output_type": "display_data"
    },
    {
     "data": {
      "image/png": "[encoded data removed]",
      "text/plain": [
       "<matplotlib.figure.Figure at 0x7fc81e8afd30>"
      ]
     },
     "metadata": {
      "needs_background": "light"
     },
     "output_type": "display_data"
    },
    {
     "data": {
      "image/png": "[encoded data removed]",
      "text/plain": [
       "<matplotlib.figure.Figure at 0x7fc81e853cc0>"
      ]
     },
     "metadata": {
      "needs_background": "light"
     },
     "output_type": "display_data"
    },
    {
     "data": {
      "image/png": "[encoded data removed]",
      "text/plain": [
       "<matplotlib.figure.Figure at 0x7fc81e7cde80>"
      ]
     },
     "metadata": {
      "needs_background": "light"
     },
     "output_type": "display_data"
    },
    {
     "data": {
      "image/png": "[encoded data removed]",
      "text/plain": [
       "<matplotlib.figure.Figure at 0x7fc81edfc780>"
      ]
     },
     "metadata": {
      "needs_background": "light"
     },
     "output_type": "display_data"
    },
    {
     "data": {
      "image/png": "[encoded data removed]",
      "text/plain": [
       "<matplotlib.figure.Figure at 0x7fc81f188550>"
      ]
     },
     "metadata": {
      "needs_background": "light"
     },
     "output_type": "display_data"
    },
    {
     "data": {
      "image/png": "[encoded data removed]",
      "text/plain": [
       "<matplotlib.figure.Figure at 0x7fc81e68afd0>"
      ]
     },
     "metadata": {
      "needs_background": "light"
     },
     "output_type": "display_data"
    },
    {
     "data": {
      "image/png": "[encoded data removed]",
      "text/plain": [
       "<matplotlib.figure.Figure at 0x7fc81e68a2e8>"
      ]
     },
     "metadata": {
      "needs_background": "light"
     },
     "output_type": "display_data"
    },
    {
     "data": {
      "image/png": "[encoded data removed]",
      "text/plain": [
       "<matplotlib.figure.Figure at 0x7fc81e62ffd0>"
      ]
     },
     "metadata": {
      "needs_background": "light"
     },
     "output_type": "display_data"
    },
    {
     "data": {
      "image/png": "[encoded data removed]",
      "text/plain": [
       "<matplotlib.figure.Figure at 0x7fc81e62f2e8>"
      ]
     },
     "metadata": {
      "needs_background": "light"
     },
     "output_type": "display_data"
    },
    {
     "data": {
      "image/png": "[encoded data removed]",
      "text/plain": [
       "<matplotlib.figure.Figure at 0x7fc81e5e2470>"
      ]
     },
     "metadata": {
      "needs_background": "light"
     },
     "output_type": "display_data"
    },
    {
     "data": {
      "image/png": "[encoded data removed]",
      "text/plain": [
       "<matplotlib.figure.Figure at 0x7fc81e5b7ef0>"
      ]
     },
     "metadata": {
      "needs_background": "light"
     },
     "output_type": "display_data"
    }
   ],
   "source": [
    "model = build_model(env)\n",
    "\n",
    "qt = Qtraining(\n",
    "    model,\n",
    "    env,\n",
    "    n_epoch = 200,\n",
    "    max_memory = 500,\n",
    "    data_size = 100,\n",
    "    name = 'model_1'\n",
    ")\n",
    "\n",
    "qt.train()"
   ]
  },
  {
   "cell_type": "code",
   "execution_count": null,
   "metadata": {},
   "outputs": [],
   "source": []
  }
 ],
 "metadata": {
  "kernelspec": {
   "display_name": "Python 3",
   "language": "python",
   "name": "python3"
  },
  "language_info": {
   "codemirror_mode": {
    "name": "ipython",
    "version": 3
   },
   "file_extension": ".py",
   "mimetype": "text/x-python",
   "name": "python",
   "nbconvert_exporter": "python",
   "pygments_lexer": "ipython3",
   "version": "3.6.8"
  }
 },
 "nbformat": 4,
 "nbformat_minor": 2
}
